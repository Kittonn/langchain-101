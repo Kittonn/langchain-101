{
 "cells": [
  {
   "cell_type": "code",
   "execution_count": null,
   "id": "d332d5bd",
   "metadata": {},
   "outputs": [],
   "source": [
    "%pip install langchain-ollama"
   ]
  },
  {
   "cell_type": "code",
   "execution_count": null,
   "id": "45722b33",
   "metadata": {},
   "outputs": [],
   "source": [
    "%pip install pydantic"
   ]
  },
  {
   "cell_type": "code",
   "execution_count": null,
   "id": "b1d26697",
   "metadata": {},
   "outputs": [],
   "source": [
    "from pydantic import BaseModel, Field\n",
    "\n",
    "class Response(BaseModel):\n",
    "    question: str = Field(description=\"The question asked.\")\n",
    "    answer: str = Field(description=\"The answer to the question.\")\n",
    "    reasoning: str = Field(description=\"The reasoning behind the answer.\")"
   ]
  },
  {
   "cell_type": "code",
   "execution_count": null,
   "id": "c98d525a",
   "metadata": {},
   "outputs": [],
   "source": [
    "from langchain_core.prompts import ChatPromptTemplate\n",
    "from langchain_ollama import ChatOllama\n",
    "\n",
    "system_prompt = \"\"\"You are a helpful assistant. You will be given a question and you need to answer it step by step.\"\"\"\n",
    "\n",
    "template = \"\"\"Question: {question}\n",
    "\n",
    "Answer: Let's think step by step.\"\"\"\n",
    "\n",
    "prompt = ChatPromptTemplate([\n",
    "  (\"system\", system_prompt),\n",
    "  (\"human\", template),\n",
    "])\n",
    "\n",
    "model = ChatOllama(model=\"deepseek-r1:7b\", base_url=\"http://localhost:11434\").with_structured_output(Response)\n",
    "\n",
    "chain = prompt | model\n",
    "\n",
    "response = chain.invoke({\"question\": \"What is the capital of Thailand?\"})\n",
    "response"
   ]
  }
 ],
 "metadata": {
  "kernelspec": {
   "display_name": ".venv",
   "language": "python",
   "name": "python3"
  },
  "language_info": {
   "codemirror_mode": {
    "name": "ipython",
    "version": 3
   },
   "file_extension": ".py",
   "mimetype": "text/x-python",
   "name": "python",
   "nbconvert_exporter": "python",
   "pygments_lexer": "ipython3",
   "version": "3.13.1"
  }
 },
 "nbformat": 4,
 "nbformat_minor": 5
}
