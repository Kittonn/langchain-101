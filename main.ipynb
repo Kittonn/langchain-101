{
 "cells": [
  {
   "cell_type": "code",
   "execution_count": 7,
   "id": "d332d5bd",
   "metadata": {},
   "outputs": [
    {
     "name": "stdout",
     "output_type": "stream",
     "text": [
      "Requirement already satisfied: langchain-ollama in ./.venv/lib/python3.13/site-packages (0.3.2)\n",
      "Requirement already satisfied: pydantic in ./.venv/lib/python3.13/site-packages (2.11.3)\n",
      "Requirement already satisfied: langsmith in ./.venv/lib/python3.13/site-packages (0.3.32)\n",
      "Requirement already satisfied: python-dotenv in ./.venv/lib/python3.13/site-packages (1.1.0)\n",
      "Requirement already satisfied: ollama<1,>=0.4.4 in ./.venv/lib/python3.13/site-packages (from langchain-ollama) (0.4.8)\n",
      "Requirement already satisfied: langchain-core<1.0.0,>=0.3.52 in ./.venv/lib/python3.13/site-packages (from langchain-ollama) (0.3.54)\n",
      "Requirement already satisfied: annotated-types>=0.6.0 in ./.venv/lib/python3.13/site-packages (from pydantic) (0.7.0)\n",
      "Requirement already satisfied: pydantic-core==2.33.1 in ./.venv/lib/python3.13/site-packages (from pydantic) (2.33.1)\n",
      "Requirement already satisfied: typing-extensions>=4.12.2 in ./.venv/lib/python3.13/site-packages (from pydantic) (4.13.2)\n",
      "Requirement already satisfied: typing-inspection>=0.4.0 in ./.venv/lib/python3.13/site-packages (from pydantic) (0.4.0)\n",
      "Requirement already satisfied: httpx<1,>=0.23.0 in ./.venv/lib/python3.13/site-packages (from langsmith) (0.28.1)\n",
      "Requirement already satisfied: orjson<4.0.0,>=3.9.14 in ./.venv/lib/python3.13/site-packages (from langsmith) (3.10.16)\n",
      "Requirement already satisfied: packaging>=23.2 in ./.venv/lib/python3.13/site-packages (from langsmith) (24.2)\n",
      "Requirement already satisfied: requests<3,>=2 in ./.venv/lib/python3.13/site-packages (from langsmith) (2.32.3)\n",
      "Requirement already satisfied: requests-toolbelt<2.0.0,>=1.0.0 in ./.venv/lib/python3.13/site-packages (from langsmith) (1.0.0)\n",
      "Requirement already satisfied: zstandard<0.24.0,>=0.23.0 in ./.venv/lib/python3.13/site-packages (from langsmith) (0.23.0)\n",
      "Requirement already satisfied: anyio in ./.venv/lib/python3.13/site-packages (from httpx<1,>=0.23.0->langsmith) (4.9.0)\n",
      "Requirement already satisfied: certifi in ./.venv/lib/python3.13/site-packages (from httpx<1,>=0.23.0->langsmith) (2025.1.31)\n",
      "Requirement already satisfied: httpcore==1.* in ./.venv/lib/python3.13/site-packages (from httpx<1,>=0.23.0->langsmith) (1.0.8)\n",
      "Requirement already satisfied: idna in ./.venv/lib/python3.13/site-packages (from httpx<1,>=0.23.0->langsmith) (3.10)\n",
      "Requirement already satisfied: h11<0.15,>=0.13 in ./.venv/lib/python3.13/site-packages (from httpcore==1.*->httpx<1,>=0.23.0->langsmith) (0.14.0)\n",
      "Requirement already satisfied: tenacity!=8.4.0,<10.0.0,>=8.1.0 in ./.venv/lib/python3.13/site-packages (from langchain-core<1.0.0,>=0.3.52->langchain-ollama) (9.1.2)\n",
      "Requirement already satisfied: jsonpatch<2.0,>=1.33 in ./.venv/lib/python3.13/site-packages (from langchain-core<1.0.0,>=0.3.52->langchain-ollama) (1.33)\n",
      "Requirement already satisfied: PyYAML>=5.3 in ./.venv/lib/python3.13/site-packages (from langchain-core<1.0.0,>=0.3.52->langchain-ollama) (6.0.2)\n",
      "Requirement already satisfied: charset-normalizer<4,>=2 in ./.venv/lib/python3.13/site-packages (from requests<3,>=2->langsmith) (3.4.1)\n",
      "Requirement already satisfied: urllib3<3,>=1.21.1 in ./.venv/lib/python3.13/site-packages (from requests<3,>=2->langsmith) (2.4.0)\n",
      "Requirement already satisfied: jsonpointer>=1.9 in ./.venv/lib/python3.13/site-packages (from jsonpatch<2.0,>=1.33->langchain-core<1.0.0,>=0.3.52->langchain-ollama) (3.0.0)\n",
      "Requirement already satisfied: sniffio>=1.1 in ./.venv/lib/python3.13/site-packages (from anyio->httpx<1,>=0.23.0->langsmith) (1.3.1)\n",
      "Note: you may need to restart the kernel to use updated packages.\n"
     ]
    }
   ],
   "source": [
    "%pip install langchain-ollama pydantic langsmith python-dotenv"
   ]
  },
  {
   "cell_type": "code",
   "execution_count": 8,
   "id": "8d35da9a",
   "metadata": {},
   "outputs": [
    {
     "data": {
      "text/plain": [
       "True"
      ]
     },
     "execution_count": 8,
     "metadata": {},
     "output_type": "execute_result"
    }
   ],
   "source": [
    "from dotenv import load_dotenv\n",
    "\n",
    "load_dotenv()"
   ]
  },
  {
   "cell_type": "code",
   "execution_count": 9,
   "id": "b1d26697",
   "metadata": {},
   "outputs": [],
   "source": [
    "from pydantic import BaseModel, Field\n",
    "\n",
    "class Response(BaseModel):\n",
    "    question: str = Field(description=\"The question asked.\")\n",
    "    answer: str = Field(description=\"The answer to the question.\")\n",
    "    reasoning: str = Field(description=\"The reasoning behind the answer.\")"
   ]
  },
  {
   "cell_type": "code",
   "execution_count": 13,
   "id": "c98d525a",
   "metadata": {},
   "outputs": [],
   "source": [
    "from langchain_core.prompts import ChatPromptTemplate\n",
    "from langchain_ollama import ChatOllama\n",
    "from langchain_core.output_parsers import StrOutputParser\n",
    "\n",
    "system_prompt = \"\"\"You are a helpful assistant. You will be given a question and you need to answer it step by step.\"\"\"\n",
    "\n",
    "template = \"\"\"Question: {question}\n",
    "\n",
    "Answer: Let's think step by step.\"\"\"\n",
    "\n",
    "parser = StrOutputParser()\n",
    "\n",
    "\n",
    "prompt = ChatPromptTemplate.from_messages([\n",
    "  (\"system\", system_prompt),\n",
    "  (\"human\", template),\n",
    "])\n",
    "\n",
    "model = ChatOllama(model=\"deepseek-r1:7b\", base_url=\"http://localhost:11434\")\n",
    "# .with_structured_output(Response)\n"
   ]
  },
  {
   "cell_type": "code",
   "execution_count": 14,
   "id": "af732d3c",
   "metadata": {},
   "outputs": [],
   "source": [
    "from langchain_core.runnables import RunnableLambda\n",
    "\n",
    "uppercase_output = RunnableLambda(lambda x: x.upper())\n",
    "count_words = RunnableLambda(lambda x: len(x.split()))"
   ]
  },
  {
   "cell_type": "code",
   "execution_count": 15,
   "id": "7563c205",
   "metadata": {},
   "outputs": [
    {
     "data": {
      "text/plain": [
       "250"
      ]
     },
     "execution_count": 15,
     "metadata": {},
     "output_type": "execute_result"
    }
   ],
   "source": [
    "chain = prompt | model | parser | uppercase_output | count_words\n",
    "response = chain.invoke({\"question\": \"What is the capital of Thailand?\"})\n",
    "response"
   ]
  },
  {
   "cell_type": "code",
   "execution_count": 25,
   "id": "f094bf9e",
   "metadata": {},
   "outputs": [
    {
     "data": {
      "text/plain": [
       "\"Pros: <think>\\nAlright, so I need to evaluate the main features of the iPhone 14 Pro Max based on the given points. Let's break it down step by step.\\n\\nFirstly, storage options are important because having enough storage is crucial for storing all my photos, videos, and other files without running into issues. The iPhone 14 Pro offers up to 256GB, which seems decent, but the Pro Max goes even further with a 1TB option. That’s a significant jump and might be necessary if I have a lot of data.\\n\\nNext is the camera system. The Pro has three cameras: one main, one ultra-wide, and a depth sensor for Face ID. The Pro Max probably includes an additional wide-angle lens or other advanced features like a telephoto lens. More cameras mean better versatility in photography, which is great for capturing different styles and subjects.\\n\\nThe display quality being OLED makes sense because it offers sharp colors and low contrast ratios. A 6.1-inch display sounds decent, but I wonder if that's the same across all Pro models or if the Pro Max has a slightly larger screen. Also, ProMotion refers to a faster refresh rate for smoother animations, which is a nice-to-have feature.\\n\\nThe A-series chip is another key point. The Pro uses an A15 Bionic chip, while the Pro Max might have the latest version, say A17. Faster chips mean quicker performance and better multitasking, which I definitely want in my phone.\\n\\nBattery life is always important for on-the-go use. The Pro claims up to 18 hours, but factors like display brightness or other settings can affect this. It's good that it stays functional throughout the day without needing frequent charges.\\n\\nBuilt-in speakers with subwoofers are great for audio quality, especially for podcasts and music. Stereo sound enhances listening experience, so having two speakers is a plus.\\n\\nConnectivity features like 5G ensure I'm always connected, which is essential nowadays. Wi-Fi and Bluetooth are standard but important for device sharing and connectivity needs.\\n\\nThe latest iOS version with frequent updates is a big plus. Regular software updates keep the system secure and bug-free, which is crucial for preventing vulnerabilities and ensuring smooth performance.\\n\\nHigh-end color options like space Gray add to the premium feel of the Pro Max, making it visually appealing without compromising functionality.\\n\\nIn summary, the iPhone 14 Pro Max seems packed with features that cater to both casual users and those who demand top-of-the-line technology. It offers ample storage, advanced cameras, a high-quality display, powerful processor, excellent battery life, great audio playback, comprehensive connectivity, up-to-date software, and stylish design choices.\\n</think>\\n\\nThe iPhone 14 Pro Max is a cutting-edge device designed with a range of features to cater to both everyday users and tech enthusiasts. Here's an organized overview of its key attributes:\\n\\n### Storage Options\\n- **Pro Model**: Up to 256GB for ample storage needs, including photos, videos, and personal files.\\n- **Pro Max**: Offers up to 1TB, ideal for extensive data storage.\\n\\n### Camera System\\n- **Pro**: Equipped with three cameras (main, ultra-wide, depth sensor) supporting Face ID.\\n- **Pro Max**: Features an enhanced camera system, possibly including additional lenses or a telephoto lens for versatile photography.\\n\\n### Display Quality\\n- **OLED Technology**: Ensures vibrant colors and a low contrast ratio, providing an engaging viewing experience.\\n- **Display Size**: 6.1 inches with ProMotion for smoother animations.\\n\\n### Performance Enhancements\\n- **A-Series Chips**: The Pro uses the A15 Bionic chip, while the Pro Max may feature the latest version (e.g., A17) for improved performance and efficiency.\\n\\n### Battery Life\\n- **Estimated Use**: Up to 18 hours on a single charge, with factors like display brightness impacting longevity.\\n\\n### Audio Features\\n- **built-in Speakers**: Two stereo speakers with subwoofers offering high-quality audio playback ideal for listening to music or podcasts.\\n\\n### Connectivity\\n- **Wireless Options**: Supports 5G, Wi-Fi, and Bluetooth, ensuring reliable connectivity and device sharing capabilities.\\n\\n### Software and Updates\\n- **Operating System**: Runs the latest iOS version with frequent updates for security, feature enhancements, and performance improvements.\\n\\n### Design and Aesthetics\\n- **Color Choices**: Includes high-end options like space Gray to enhance the premium feel of the Pro Max.\\n\\nIn conclusion, the iPhone 14 Pro Max is a powerhouse device offering an array of features that blend functionality with elegance, making it a top choice for those seeking advanced technology in their smartphones., Cons: <think>\\nAlright, so I'm trying to figure out the pros and cons of having a high-resolution display like the one on the iPhone 14 Pro Max. First off, I know that higher resolution means more detail, right? So maybe that's a pro because it allows you to see fine print or details in photos better.\\n\\nBut then again, if the screen is too high of a resolution, it might take up more space on my phone, making everything look smaller. That could be a con because I might not have enough room for apps or other stuff without scrolling or zooming, which can be annoying.\\n\\nAlso, higher resolutions probably use more power since there's more to display. So that means the battery life might be shorter compared to lower resolution screens. Another thing is that some people might find it overwhelming with too much detail, making things look cluttered or too busy.\\n\\nOn the other hand, having a really high-resolution screen could also be a pro because it makes images and videos look sharper and more vibrant. It can enhance user experience by providing a better visual feedback.\\n\\nI'm not entirely sure about how different resolutions affect performance, though. Maybe higher resolutions just make everything run smoother? Or does it slow things down because of all the pixels?\\n\\nAnd then there's the issue of compatibility. If I get a phone with a super high resolution display, will older apps or games still work well on it? Compatibility could be a concern that limits how much I can use certain features.\\n\\nLastly, cost-wise, a higher-resolution screen might make the phone more expensive to manufacture and thus affect the overall price. So, while it's beneficial in terms of quality, it comes with trade-offs like battery life, space constraints, performance impact, compatibility issues, and higher costs.\\n</think>\\n\\n**Pros and Cons of High-Resolution Displays on iPhone 14 Pro Max**\\n\\n**Pros:**\\n1. **Enhanced Visual Experience:** Higher resolution allows for sharper and more detailed images, making text readable and enhancing the overall visual quality of photos and videos.\\n\\n2. **Battery Efficiency Potential:** While higher resolutions may use more power, modern devices often optimize performance to maintain battery life, ensuring it remains competitive with lower resolutions.\\n\\n3. **Improved User Experience:** A high-resolution screen provides smoother visual feedback, enhancing app and game performance by reducing pixel density.\\n\\n**Cons:**\\n1. **Space Constraints:** A high-resolution display can cause apps and content to take up more space, potentially requiring scrolling or zooming, which can be inconvenient for users who prefer a clutter-free interface.\\n\\n2. **Reduced Battery Life:** The increased power consumption from higher resolution screens may lead to shorter battery life compared to lower resolutions, affecting the overall user experience.\\n\\n3. **Compatibility Issues:** Older apps and games might not function well on devices with high-resolution displays due to compatibility limitations, potentially restricting usage of certain features.\\n\\n4. **Visual Clutter:** Some users may find high resolutions overwhelming, leading to a sense of visual clutter that can detract from the user experience.\\n\\n5. **Manufacturing Costs:** Higher resolution screens are more costly to manufacture, which can translate into increased prices for consumers.\\n\\nIn summary, while a high-resolution display on the iPhone 14 Pro Max offers benefits like improved visuals and better performance, it also presents challenges related to space, battery life, compatibility, and user experience. Balancing these factors is crucial for optimizing the device's performance and utility.\""
      ]
     },
     "execution_count": 25,
     "metadata": {},
     "output_type": "execute_result"
    }
   ],
   "source": [
    "promtpt_template = ChatPromptTemplate.from_messages([\n",
    "  (\"system\", \"You are an expert product reviewer.\"),\n",
    "  (\"human\", \"List the main features of the product {product_name}.\"),\n",
    "])\n",
    "\n",
    "pros_template = ChatPromptTemplate.from_messages([\n",
    "  (\"system\", \"You are an expert product reviewer.\"),\n",
    "  (\"human\", \"Given these features: {features}, list the pros of these features.\"),\n",
    "])\n",
    "\n",
    "\n",
    "cons_template = ChatPromptTemplate.from_messages([\n",
    "  (\"system\", \"You are an expert product reviewer.\"),\n",
    "  (\"human\", \"Given these features: {features}, list the cons of these features.\"),\n",
    "])\n",
    "\n",
    "pros_chain = pros_template | model | parser\n",
    "cons_chain = cons_template | model | parser\n",
    "\n",
    "output_parser = RunnableLambda(lambda x: f\"Pros: {x['pros']}, Cons: {x['cons']}\")\n",
    "\n",
    "product_chain = promtpt_template | model | parser | {\n",
    "  \"pros\": pros_chain,\n",
    "  \"cons\": cons_chain,\n",
    "} | output_parser\n",
    "\n",
    "product_chain.invoke({\"product_name\": \"iPhone 14 Pro Max\"})\n",
    "\n"
   ]
  }
 ],
 "metadata": {
  "kernelspec": {
   "display_name": ".venv",
   "language": "python",
   "name": "python3"
  },
  "language_info": {
   "codemirror_mode": {
    "name": "ipython",
    "version": 3
   },
   "file_extension": ".py",
   "mimetype": "text/x-python",
   "name": "python",
   "nbconvert_exporter": "python",
   "pygments_lexer": "ipython3",
   "version": "3.13.1"
  }
 },
 "nbformat": 4,
 "nbformat_minor": 5
}
