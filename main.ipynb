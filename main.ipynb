{
 "cells": [
  {
   "cell_type": "code",
   "execution_count": null,
   "id": "d332d5bd",
   "metadata": {},
   "outputs": [],
   "source": [
    "%pip install langchain-ollama pydantic langsmith python-dotenv"
   ]
  },
  {
   "cell_type": "code",
   "execution_count": null,
   "id": "8d35da9a",
   "metadata": {},
   "outputs": [],
   "source": [
    "from dotenv import load_dotenv\n",
    "\n",
    "load_dotenv()"
   ]
  },
  {
   "cell_type": "code",
   "execution_count": null,
   "id": "b1d26697",
   "metadata": {},
   "outputs": [],
   "source": [
    "from pydantic import BaseModel, Field\n",
    "\n",
    "class Response(BaseModel):\n",
    "    question: str = Field(description=\"The question asked.\")\n",
    "    answer: str = Field(description=\"The answer to the question.\")\n",
    "    reasoning: str = Field(description=\"The reasoning behind the answer.\")"
   ]
  },
  {
   "cell_type": "code",
   "execution_count": null,
   "id": "c98d525a",
   "metadata": {},
   "outputs": [],
   "source": [
    "from langchain_core.prompts import ChatPromptTemplate\n",
    "from langchain_ollama import ChatOllama\n",
    "from langchain_core.output_parsers import StrOutputParser\n",
    "\n",
    "system_prompt = \"\"\"You are a helpful assistant. You will be given a question and you need to answer it step by step.\"\"\"\n",
    "\n",
    "template = \"\"\"Question: {question}\n",
    "\n",
    "Answer: Let's think step by step.\"\"\"\n",
    "\n",
    "parser = StrOutputParser()\n",
    "\n",
    "\n",
    "prompt = ChatPromptTemplate.from_messages([\n",
    "  (\"system\", system_prompt),\n",
    "  (\"human\", template),\n",
    "])\n",
    "\n",
    "model = ChatOllama(model=\"deepseek-r1:7b\", base_url=\"http://localhost:11434\")\n",
    "# .with_structured_output(Response)\n"
   ]
  },
  {
   "cell_type": "code",
   "execution_count": null,
   "id": "af732d3c",
   "metadata": {},
   "outputs": [],
   "source": [
    "from langchain_core.runnables import RunnableLambda\n",
    "\n",
    "uppercase_output = RunnableLambda(lambda x: x.upper())\n",
    "count_words = RunnableLambda(lambda x: len(x.split()))"
   ]
  },
  {
   "cell_type": "code",
   "execution_count": null,
   "id": "7563c205",
   "metadata": {},
   "outputs": [],
   "source": [
    "chain = prompt | model | parser | uppercase_output | count_words\n",
    "response = chain.invoke({\"question\": \"What is the capital of Thailand?\"})\n",
    "response"
   ]
  },
  {
   "cell_type": "code",
   "execution_count": null,
   "id": "f094bf9e",
   "metadata": {},
   "outputs": [],
   "source": [
    "promtpt_template = ChatPromptTemplate.from_messages([\n",
    "  (\"system\", \"You are an expert product reviewer.\"),\n",
    "  (\"human\", \"List the main features of the product {product_name}.\"),\n",
    "])\n",
    "\n",
    "pros_template = ChatPromptTemplate.from_messages([\n",
    "  (\"system\", \"You are an expert product reviewer.\"),\n",
    "  (\"human\", \"Given these features: {features}, list the pros of these features.\"),\n",
    "])\n",
    "\n",
    "\n",
    "cons_template = ChatPromptTemplate.from_messages([\n",
    "  (\"system\", \"You are an expert product reviewer.\"),\n",
    "  (\"human\", \"Given these features: {features}, list the cons of these features.\"),\n",
    "])\n",
    "\n",
    "pros_chain = pros_template | model | parser\n",
    "cons_chain = cons_template | model | parser\n",
    "\n",
    "output_parser = RunnableLambda(lambda x: f\"Pros: {x['pros']}, Cons: {x['cons']}\")\n",
    "\n",
    "product_chain = promtpt_template | model | parser | {\n",
    "  \"pros\": pros_chain,\n",
    "  \"cons\": cons_chain,\n",
    "} | output_parser\n",
    "\n",
    "product_chain.invoke({\"product_name\": \"iPhone 14 Pro Max\"})\n",
    "\n"
   ]
  },
  {
   "cell_type": "code",
   "execution_count": null,
   "id": "c80dfa93",
   "metadata": {},
   "outputs": [],
   "source": [
    "from langchain_core.runnables import RunnablePassthrough, RunnableLambda, RunnableMap\n",
    "\n",
    "hello_runnable = RunnableLambda(lambda x: f\"Hello {x['wording']['other']}\")\n",
    "\n",
    "chain = RunnableMap({\n",
    "    \"question\": RunnableLambda(lambda x: \"test\"),\n",
    "    \"wording\": RunnablePassthrough(),\n",
    "}) | hello_runnable\n",
    "\n",
    "response = chain.invoke({\"wording\": \"World\", \"other\": \"test\"})\n",
    "print(response)"
   ]
  }
 ],
 "metadata": {
  "kernelspec": {
   "display_name": ".venv",
   "language": "python",
   "name": "python3"
  },
  "language_info": {
   "codemirror_mode": {
    "name": "ipython",
    "version": 3
   },
   "file_extension": ".py",
   "mimetype": "text/x-python",
   "name": "python",
   "nbconvert_exporter": "python",
   "pygments_lexer": "ipython3",
   "version": "3.13.1"
  }
 },
 "nbformat": 4,
 "nbformat_minor": 5
}
